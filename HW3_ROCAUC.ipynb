{
 "cells": [
  {
   "cell_type": "code",
   "execution_count": null,
   "metadata": {},
   "outputs": [],
   "source": [
    "from matplotlib import pyplot\n",
    "from sklearn.metrics import roc_auc_score\n",
    "from sklearn import metrics\n",
    "import pandas as pd\n",
    "import numpy as np\n",
    "\n",
    "\n",
    "def auc_classification(df, df_original):\n",
    "    auc_ind = []\n",
    "    for i in range(df_original.shape[1]):\n",
    "        auc_ind.append(roc_auc_score(df['label'], df_original[df_original.columns[i]]))\n",
    "\n",
    "    return auc_ind\n",
    "\n",
    "\n",
    "def find_max_ind(auc_ind):\n",
    "    auc_ind = np.array(auc_ind)\n",
    "    ind = np.argpartition(auc_ind, -3)[-3:]\n",
    "    return ind, auc_ind[ind]\n",
    "\n",
    "\n",
    "def auc_metrics(df_label, df_original, index):\n",
    "    return r_curve\n",
    "\n",
    "\n"
   ]
  },
  {
   "cell_type": "markdown",
   "metadata": {},
   "source": [
    "# Cancer.csv\n"
   ]
  },
  {
   "cell_type": "code",
   "execution_count": 139,
   "metadata": {},
   "outputs": [
    {
     "name": "stdout",
     "output_type": "stream",
     "text": [
      " \n",
      "AUC index for each column \n",
      " [0.9375165160403784, 0.7758244807356903, 0.9468976269753184, 0.9383158923946937, 0.7220416468474182, 0.86378230537498, 0.9378270175994926, 0.9644376618571957, 0.6985624438454627, 0.48453437978965175, 0.8683341261032713, 0.5115942603456478, 0.8763939538079382, 0.9264111304899318, 0.4688375350140056, 0.7272805348554516, 0.7808189313461233, 0.7917921885735425, 0.4448892764653031, 0.6203028381163787, 0.9704428941387877, 0.7846308334654617, 0.9754505575815232, 0.9698284974367105, 0.7540563395169388, 0.8623024681570742, 0.921363828550288, 0.9667036625971144, 0.736939115268749, 0.6859706146609588]\n",
      " \n",
      "Columns number with max AUC \n",
      " [23 20 22]\n",
      " \n",
      "AUC max indexes \n",
      " [0.9698285  0.97044289 0.97545056]\n"
     ]
    },
    {
     "data": {
      "image/png": "[encoded data removed]",
      "text/plain": [
       "<Figure size 432x288 with 1 Axes>"
      ]
     },
     "metadata": {},
     "output_type": "display_data"
    }
   ],
   "source": [
    "df = pd.read_csv('/Users/alena_paliakova/Google Drive/!Bioinf_drive/02_MachinLearn/HW3/cancer.csv')\n",
    "\n",
    "df_original = df.drop(columns='label')\n",
    "\n",
    "auc_ind = auc_classification(df, df_original)\n",
    "print(' \\nAUC index for each column \\n', auc_ind)\n",
    "\n",
    "ind_max = find_max_ind(auc_ind)[0]\n",
    "\n",
    "print(' \\nColumns number with max AUC \\n', ind_max)\n",
    "\n",
    "print(' \\nAUC max indexes \\n', find_max_ind(auc_ind)[1])\n",
    "\n",
    "df_1 = df.label\n",
    "\n",
    "df_label = df_1.values\n",
    "\n",
    "for i in range(len(df_label)):\n",
    "    if df_label[i] == 'M':\n",
    "        df_label[i] = 2\n",
    "    elif df_label[i] == 'B':\n",
    "        df_label[i] = 0\n",
    "df_label = list(df_label)\n",
    "\n",
    "column = df.iloc[:, ind_max[0]].values.tolist()\n",
    "\n",
    "r_curve = metrics.roc_curve(df_label, column, pos_label=2)\n",
    "\n",
    "fpr, tpr, treshold = r_curve\n",
    "\n",
    "pyplot.xlim(0, 1)\n",
    "pyplot.ylim(0, 1)\n",
    "pyplot.plot([0, 1], [0, 1], linestyle='--')\n",
    "pyplot.plot(fpr, tpr, marker='.')\n",
    "pyplot.show()"
   ]
  },
  {
   "cell_type": "markdown",
   "metadata": {},
   "source": [
    "# Spam.csv"
   ]
  },
  {
   "cell_type": "code",
   "execution_count": 144,
   "metadata": {},
   "outputs": [
    {
     "name": "stdout",
     "output_type": "stream",
     "text": [
      " \n",
      "AUC index for each column \n",
      " [0.6046323934979398, 0.6216014421589334, 0.6753142258881139, 0.5093402225755167, 0.7109324613167614, 0.6357693044257915, 0.7031303292576095, 0.6357601049648601, 0.6156987514847733, 0.6393338482393617, 0.6317478540526297, 0.5822346736980883, 0.5852025384972709, 0.5410448292698754, 0.5706599713055954, 0.7327284572365533, 0.6482528739907301, 0.6293136569064013, 0.7104681358370639, 0.5960971732133855, 0.7801659226643854, 0.5222278759888925, 0.6551896632087244, 0.6778975927879392, 0.32393527615396844, 0.36586493529514635, 0.3633321159709764, 0.43024127910887494, 0.43836776635505875, 0.42375377969249667, 0.44882329991983616, 0.4641313018285759, 0.4542554332214099, 0.46585882210497914, 0.43257675515822674, 0.44237843456433334, 0.3967978753795519, 0.49965605886388836, 0.4582851927850903, 0.5085915051584246, 0.47390004122941204, 0.44748067321852936, 0.46977937516470003, 0.4619644825629659, 0.4662309551374934, 0.43617918492380475, 0.49730455794710765, 0.4707747964050485, 0.47793840674041543, 0.4813958213476557, 0.46360475633892323, 0.8290461207554874, 0.7721394424612296, 0.601327709725947, 0.7882004153012556, 0.8041625681254704, 0.7622800933161663]\n",
      " \n",
      "Columns number with max AUC \n",
      " [54 55 51]\n",
      " \n",
      "AUC max indexes \n",
      " [0.78820042 0.80416257 0.82904612]\n"
     ]
    },
    {
     "data": {
      "image/png": "[encoded data removed]",
      "text/plain": [
       "<Figure size 432x288 with 1 Axes>"
      ]
     },
     "metadata": {},
     "output_type": "display_data"
    }
   ],
   "source": [
    "\n",
    "df = pd.read_csv('/Users/alena_paliakova/Google Drive/!Bioinf_drive/02_MachinLearn/HW3/spam.csv')\n",
    "\n",
    "df_original = df.drop(columns='label')\n",
    "\n",
    "auc_ind = auc_classification(df, df_original)\n",
    "print(' \\nAUC index for each column \\n', auc_ind)\n",
    "\n",
    "ind_max = find_max_ind(auc_ind)[0]\n",
    "\n",
    "print(' \\nColumns number with max AUC \\n', ind_max)\n",
    "\n",
    "print(' \\nAUC max indexes \\n', find_max_ind(auc_ind)[1])\n",
    "\n",
    "df_1 = df.label\n",
    "\n",
    "df_label = df_1.values\n",
    "\n",
    "for i in range(len(df_label)):\n",
    "    if df_label[i] == 1:\n",
    "        df_label[i] = 2\n",
    "    elif df_label[i] == 0:\n",
    "        df_label[i] = 0\n",
    "df_label = list(df_label)\n",
    "\n",
    "column = df.iloc[:, ind_max[2]].values.tolist()\n",
    "\n",
    "r_curve = metrics.roc_curve(df_label, column, pos_label=2)\n",
    "\n",
    "fpr, tpr, treshold = r_curve\n",
    "\n",
    "pyplot.xlim(0, 1)\n",
    "pyplot.ylim(0, 1)\n",
    "pyplot.plot([0, 1], [0, 1], linestyle='--')\n",
    "pyplot.plot(fpr, tpr, marker='.')\n",
    "pyplot.show()"
   ]
  },
  {
   "cell_type": "code",
   "execution_count": null,
   "metadata": {},
   "outputs": [],
   "source": []
  }
 ],
 "metadata": {
  "kernelspec": {
   "display_name": "Python 3",
   "language": "python",
   "name": "python3"
  },
  "language_info": {
   "codemirror_mode": {
    "name": "ipython",
    "version": 3
   },
   "file_extension": ".py",
   "mimetype": "text/x-python",
   "name": "python",
   "nbconvert_exporter": "python",
   "pygments_lexer": "ipython3",
   "version": "3.6.4"
  }
 },
 "nbformat": 4,
 "nbformat_minor": 2
}
