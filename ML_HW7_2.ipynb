{
 "cells": [
  {
   "cell_type": "code",
   "execution_count": 13,
   "metadata": {},
   "outputs": [
    {
     "name": "stdout",
     "output_type": "stream",
     "text": [
      "Time: 3.80000001314329e-05\n",
      "Accuracy: 0.9385964912280702\n"
     ]
    }
   ],
   "source": [
    "import numpy as np\n",
    "import matplotlib.pyplot as plt\n",
    "from sklearn import svm, datasets\n",
    "\n",
    "import time\n",
    "from matplotlib import pyplot\n",
    "from sklearn.model_selection import train_test_split\n",
    "from sklearn.metrics import accuracy_score\n",
    "import numpy as np\n",
    "import pandas as pd\n",
    "from sklearn.preprocessing import MinMaxScaler\n",
    "import matplotlib.pyplot as plt\n",
    "import warnings\n",
    "from sklearn.ensemble import RandomForestClassifier\n",
    "warnings.filterwarnings(\"ignore\")\n",
    "\n",
    "import numpy as np\n",
    "import matplotlib.pyplot as plt\n",
    "from sklearn import svm, datasets\n",
    "\n",
    "import time\n",
    "from matplotlib import pyplot\n",
    "from sklearn.model_selection import train_test_split\n",
    "from sklearn.metrics import accuracy_score\n",
    "import numpy as np\n",
    "import pandas as pd\n",
    "from sklearn.preprocessing import MinMaxScaler\n",
    "import matplotlib.pyplot as plt\n",
    "import warnings\n",
    "\n",
    "warnings.filterwarnings(\"ignore\")\n",
    "\n",
    "\n",
    "def convert(df):\n",
    "    df_label = []\n",
    "    for i in range(len(df)):\n",
    "        if df[i][0] == 'M':\n",
    "            df_label.append(1)\n",
    "        elif df[i][0] == 'B':\n",
    "            df_label.append(0)\n",
    "    for i in range(len(df)):\n",
    "        if df[i][0] == 1:\n",
    "            df_label.append(1)\n",
    "        elif df[i][0] == 0:\n",
    "            df_label.append(0)\n",
    "\n",
    "    return df_label\n",
    "\n",
    "\n",
    "# df = pd.read_csv('/Users/alena_paliakova/Google Drive/!Bioinf_drive/02_MachinLearn/HW4/spam.csv')\n",
    "df = pd.read_csv('/Users/alena_paliakova/Google Drive/!Bioinf_drive/02_MachinLearn/HW7/cancer.csv')\n",
    "\n",
    "\n",
    "df = df.values\n",
    "df = np.array(df)\n",
    "df_label=convert(df)\n",
    "\n",
    "y = np.array(df_label)\n",
    "df = np.delete(df, 0, 1)\n",
    "X = df\n",
    "\n",
    "df_train, df_test, label_train, label_test = train_test_split(X, y, test_size=0.2, shuffle=True)\n",
    "\n",
    "C = 1.0\n",
    "model = svm.SVC(kernel='linear', C=C)\n",
    "model.fit(df_train, label_train)\n",
    "pred = model.predict(df_test)\n",
    "\n",
    "start = time.clock()\n",
    "\n",
    "print(f\"Time: {time.clock() - start}\")\n",
    "print(f\"Accuracy: {accuracy_score(label_test, pred)}\")"
   ]
  },
  {
   "cell_type": "code",
   "execution_count": 14,
   "metadata": {},
   "outputs": [
    {
     "name": "stdout",
     "output_type": "stream",
     "text": [
      "Time: 4.0000000126383384e-05\n",
      "Accuracy: 0.956140350877193\n"
     ]
    }
   ],
   "source": [
    "from sklearn.ensemble import RandomForestClassifier\n",
    "\n",
    "model = RandomForestClassifier(n_estimators=100)\n",
    "model.fit(df_train, label_train)\n",
    "pred = model.predict(df_test)\n",
    "\n",
    "start = time.clock()\n",
    "print(f\"Time: {time.clock() - start}\")\n",
    "print(f\"Accuracy: {accuracy_score(label_test, pred)}\")"
   ]
  },
  {
   "cell_type": "code",
   "execution_count": null,
   "metadata": {},
   "outputs": [],
   "source": []
  }
 ],
 "metadata": {
  "kernelspec": {
   "display_name": "Python 3",
   "language": "python",
   "name": "python3"
  },
  "language_info": {
   "codemirror_mode": {
    "name": "ipython",
    "version": 3
   },
   "file_extension": ".py",
   "mimetype": "text/x-python",
   "name": "python",
   "nbconvert_exporter": "python",
   "pygments_lexer": "ipython3",
   "version": "3.6.4"
  }
 },
 "nbformat": 4,
 "nbformat_minor": 2
}
